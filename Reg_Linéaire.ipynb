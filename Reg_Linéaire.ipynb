{
 "cells": [
  {
   "cell_type": "markdown",
   "metadata": {},
   "source": [
    "# Regression Linéaire"
   ]
  },
  {
   "cell_type": "code",
   "execution_count": 1,
   "metadata": {},
   "outputs": [
    {
     "data": {
      "text/latex": [
       "\\begin{equation}\n",
       "\\hat{\\beta}_1 = \\frac{\\sum(X_i – \\bar{X}) (Y_i – \\bar{Y})} {\\sum(X_i – \\bar{X})^2}\n",
       "\\end{equation}"
      ],
      "text/plain": [
       "<IPython.core.display.Latex object>"
      ]
     },
     "metadata": {},
     "output_type": "display_data"
    }
   ],
   "source": [
    "%%latex\n",
    "\\begin{equation}\n",
    "\\hat{\\beta}_1 = \\frac{\\sum(X_i – \\bar{X}) (Y_i – \\bar{Y})} {\\sum(X_i – \\bar{X})^2}\n",
    "\\end{equation}"
   ]
  },
  {
   "cell_type": "code",
   "execution_count": 2,
   "metadata": {},
   "outputs": [
    {
     "data": {
      "text/latex": [
       "\\begin{equation}\n",
       "\\hat{\\beta}_0 = \\bar{Y} – \\hat{\\beta}_1 \\bar{X}\n",
       "\\end{equation}"
      ],
      "text/plain": [
       "<IPython.core.display.Latex object>"
      ]
     },
     "metadata": {},
     "output_type": "display_data"
    }
   ],
   "source": [
    "%%latex\n",
    "\\begin{equation}\n",
    "\\hat{\\beta}_0 = \\bar{Y} – \\hat{\\beta}_1 \\bar{X}\n",
    "\\end{equation}"
   ]
  },
  {
   "cell_type": "code",
   "execution_count": 58,
   "metadata": {},
   "outputs": [
    {
     "data": {
      "text/latex": [
       "\\begin{equation}\n",
       "\\hat{\\sigma} = \\sqrt\\frac{\\sum(Y_i – \\hat{Y}_i)^2} {n – 2}\n",
       "\\end{equation}"
      ],
      "text/plain": [
       "<IPython.core.display.Latex object>"
      ]
     },
     "metadata": {},
     "output_type": "display_data"
    }
   ],
   "source": [
    "%%latex\n",
    "\\begin{equation}\n",
    "\\hat{\\sigma} = \\sqrt\\frac{\\sum(Y_i – \\hat{Y}_i)^2} {n – 2}\n",
    "\\end{equation}"
   ]
  },
  {
   "cell_type": "code",
   "execution_count": 60,
   "metadata": {},
   "outputs": [
    {
     "data": {
      "text/latex": [
       "L'erreur standard de Beta1 est :\n",
       "\\begin{equation}\n",
       "\\hat{\\sigma}{_\\hat{\\beta_1}} = \\frac{\\hat{\\sigma}} {\\sqrt{\\sum(X_i – \\bar{X})^2}}\n",
       "\\end{equation}"
      ],
      "text/plain": [
       "<IPython.core.display.Latex object>"
      ]
     },
     "metadata": {},
     "output_type": "display_data"
    }
   ],
   "source": [
    "%%latex\n",
    "L'erreur standard de Beta1 est :\n",
    "\\begin{equation}\n",
    "\\hat{\\sigma}{_\\hat{\\beta_1}} = \\frac{\\hat{\\sigma}} {\\sqrt{\\sum(X_i – \\bar{X})^2}}\n",
    "\\end{equation}"
   ]
  },
  {
   "cell_type": "code",
   "execution_count": 62,
   "metadata": {},
   "outputs": [
    {
     "data": {
      "text/latex": [
       "L'erreur standard de Beta0 est :\n",
       "\\begin{equation}\n",
       "\\hat{\\sigma}{_\\hat{\\beta_0}} = \\hat{\\sigma} \\sqrt{\\frac{1} {n} + \\frac{\\sum(X_i)^2} {\\sum(X_i – \\bar{X})^2}}\n",
       "\\end{equation}"
      ],
      "text/plain": [
       "<IPython.core.display.Latex object>"
      ]
     },
     "metadata": {},
     "output_type": "display_data"
    }
   ],
   "source": [
    "%%latex\n",
    "L'erreur standard de Beta0 est :\n",
    "\\begin{equation}\n",
    "\\hat{\\sigma}{_\\hat{\\beta_0}} = \\hat{\\sigma} \\sqrt{\\frac{1} {n} + \\frac{\\sum(X_i)^2} {\\sum(X_i – \\bar{X})^2}}\n",
    "\\end{equation}"
   ]
  },
  {
   "cell_type": "code",
   "execution_count": 64,
   "metadata": {},
   "outputs": [
    {
     "data": {
      "text/latex": [
       "Le coefficient de détermination est :\n",
       "\\begin{equation}\n",
       "{R^2} = \\frac{\\sum(Y_i – \\hat{Y})^2} {\\sum(Y_i – \\bar{Y})^2}\n",
       "\\end{equation}"
      ],
      "text/plain": [
       "<IPython.core.display.Latex object>"
      ]
     },
     "metadata": {},
     "output_type": "display_data"
    }
   ],
   "source": [
    "%%latex\n",
    "Le coefficient de détermination est :\n",
    "\\begin{equation}\n",
    "{R^2} = \\frac{\\sum(Y_i – \\hat{Y})^2} {\\sum(Y_i – \\bar{Y})^2}\n",
    "\\end{equation}"
   ]
  },
  {
   "cell_type": "code",
   "execution_count": 3,
   "metadata": {},
   "outputs": [
    {
     "data": {
      "text/latex": [
       "\\begin{equation}\n",
       "\\hat{\\beta} = {(X^tX)^{-1}X^tY}\n",
       "\\end{equation}"
      ],
      "text/plain": [
       "<IPython.core.display.Latex object>"
      ]
     },
     "metadata": {},
     "output_type": "display_data"
    }
   ],
   "source": [
    "%%latex\n",
    "\\begin{equation}\n",
    "\\hat{\\beta} = {(X^tX)^{-1}X^tY}\n",
    "\\end{equation}"
   ]
  },
  {
   "cell_type": "code",
   "execution_count": 4,
   "metadata": {},
   "outputs": [
    {
     "data": {
      "text/latex": [
       "\\begin{equation}\n",
       "\\hat{\\sigma}^2_j = \\hat{\\sigma}^2{(X^tX)^{-1}_{j,j}}\n",
       "\\end{equation}"
      ],
      "text/plain": [
       "<IPython.core.display.Latex object>"
      ]
     },
     "metadata": {},
     "output_type": "display_data"
    }
   ],
   "source": [
    "%%latex\n",
    "\\begin{equation}\n",
    "\\hat{\\sigma}^2_j = \\hat{\\sigma}^2{(X^tX)^{-1}_{j,j}}\n",
    "\\end{equation}"
   ]
  },
  {
   "cell_type": "code",
   "execution_count": 5,
   "metadata": {},
   "outputs": [
    {
     "data": {
      "text/latex": [
       "\\begin{equation}\n",
       "\\hat{T}_j = \\frac{\\hat{\\beta}_j} {\\hat{\\sigma}_j}\n",
       "\\end{equation}"
      ],
      "text/plain": [
       "<IPython.core.display.Latex object>"
      ]
     },
     "metadata": {},
     "output_type": "display_data"
    }
   ],
   "source": [
    "%%latex\n",
    "\\begin{equation}\n",
    "\\hat{T}_j = \\frac{\\hat{\\beta}_j} {\\hat{\\sigma}_j}\n",
    "\\end{equation}"
   ]
  },
  {
   "cell_type": "code",
   "execution_count": 6,
   "metadata": {},
   "outputs": [
    {
     "data": {
      "text/latex": [
       "\\begin{equation}\n",
       "{Y}_{pred} = {\\hat{\\beta}_0} + {\\hat{\\beta}_1{X}_{1j}} + {\\hat{\\beta}_2{X}_{2j}} + {\\epsilon}_j\n",
       "\\end{equation}"
      ],
      "text/plain": [
       "<IPython.core.display.Latex object>"
      ]
     },
     "metadata": {},
     "output_type": "display_data"
    }
   ],
   "source": [
    "%%latex\n",
    "\\begin{equation}\n",
    "{Y}_{pred} = {\\hat{\\beta}_0} + {\\hat{\\beta}_1{X}_{1j}} + {\\hat{\\beta}_2{X}_{2j}} + {\\epsilon}_j\n",
    "\\end{equation}"
   ]
  },
  {
   "cell_type": "code",
   "execution_count": 8,
   "metadata": {},
   "outputs": [
    {
     "data": {
      "text/latex": [
       "\\begin{equation}\n",
       "{\\epsilon} ∼ {N(0,{\\sigma}^2)}\n",
       "\\end{equation}"
      ],
      "text/plain": [
       "<IPython.core.display.Latex object>"
      ]
     },
     "metadata": {},
     "output_type": "display_data"
    }
   ],
   "source": [
    "%%latex\n",
    "\\begin{equation}\n",
    "{\\epsilon} ∼ {N(0,{\\sigma}^2)}\n",
    "\\end{equation}"
   ]
  },
  {
   "cell_type": "code",
   "execution_count": 10,
   "metadata": {},
   "outputs": [
    {
     "data": {
      "text/latex": [
       "En resolvant la dernière question de l'exercice, on trouve : \n",
       "\\begin{align*}\n",
       "\t\\text{CI}(x) &= \\hat\\beta_0 + \\hat\\beta_1 x \\, \\pm \\, t_{1 - \\frac{\\alpha}{2}}^{(n-2)} \\, \\hat\\sigma\\sqrt{\\frac{1}{n} + \\frac{(x - \\overline{x})^2}{\\sum_{i=1}^n(x_i - \\overline{x})^2}}\\,, \\\\ \n",
       "\t\\text{PI}(x) &= \\hat\\beta_0 + \\hat\\beta_1 x \\, \\pm \\, t_{1 - \\frac{\\alpha}{2}}^{(n-2)} \\, \\hat\\sigma\\sqrt{1 + \\frac{1}{n} + \\frac{(x - \\overline{x})^2}{\\sum_{i=1}^n(x_i - \\overline{x})^2}}\\,.\n",
       "\\end{align*}\n",
       "où $ t_{1 - \\frac{\\alpha}{2}}^{(n-2)}$ est le quantile de niveau $1-\\alpha/2$ de la distribution de Student de degrée $n-2$."
      ],
      "text/plain": [
       "<IPython.core.display.Latex object>"
      ]
     },
     "metadata": {},
     "output_type": "display_data"
    }
   ],
   "source": [
    "%%latex\n",
    "\\begin{align*}\n",
    "\t\\text{CI}(x) &= \\hat\\beta_0 + \\hat\\beta_1 x \\, \\pm \\, t_{1 - \\frac{\\alpha}{2}}^{(n-2)} \\, \\hat\\sigma\\sqrt{\\frac{1}{n} + \\frac{(x - \\overline{x})^2}{\\sum_{i=1}^n(x_i - \\overline{x})^2}}\\,, \\\\ \n",
    "\t\\text{PI}(x) &= \\hat\\beta_0 + \\hat\\beta_1 x \\, \\pm \\, t_{1 - \\frac{\\alpha}{2}}^{(n-2)} \\, \\hat\\sigma\\sqrt{1 + \\frac{1}{n} + \\frac{(x - \\overline{x})^2}{\\sum_{i=1}^n(x_i - \\overline{x})^2}}\\,.\n",
    "\\end{align*}\n",
    "où $ t_{1 - \\frac{\\alpha}{2}}^{(n-2)}$ est le quantile de niveau $1-\\alpha/2$ de la distribution de Student de degrée $n-2$."
   ]
  },
  {
   "cell_type": "code",
   "execution_count": null,
   "metadata": {},
   "outputs": [],
   "source": []
  }
 ],
 "metadata": {
  "kernelspec": {
   "display_name": "Python 3",
   "language": "python",
   "name": "python3"
  },
  "language_info": {
   "codemirror_mode": {
    "name": "ipython",
    "version": 3
   },
   "file_extension": ".py",
   "mimetype": "text/x-python",
   "name": "python",
   "nbconvert_exporter": "python",
   "pygments_lexer": "ipython3",
   "version": "3.6.5"
  }
 },
 "nbformat": 4,
 "nbformat_minor": 2
}
